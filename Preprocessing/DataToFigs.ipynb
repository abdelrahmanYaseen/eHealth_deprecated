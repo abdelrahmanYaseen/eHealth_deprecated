{
 "cells": [
  {
   "cell_type": "code",
   "execution_count": 1,
   "metadata": {},
   "outputs": [],
   "source": [
    "import pandas as pd\n",
    "import numpy as np\n",
    "import matplotlib.pyplot as plt\n",
    "from sklearn import preprocessing\n",
    "import sys,os\n",
    "import random\n",
    "path = os.getcwd()"
   ]
  },
  {
   "cell_type": "code",
   "execution_count": 5,
   "metadata": {},
   "outputs": [],
   "source": [
    "df = pd.read_csv(\"mHealth_subject3.log\", header=None, delim_whitespace=True)"
   ]
  },
  {
   "cell_type": "code",
   "execution_count": 6,
   "metadata": {},
   "outputs": [],
   "source": [
    "def randomString(stringLength=10):\n",
    "    import string\n",
    "    \"\"\"Generate a random string of fixed length \"\"\"\n",
    "    letters = string.ascii_lowercase\n",
    "    return ''.join(random.choice(letters) for i in range(stringLength))"
   ]
  },
  {
   "cell_type": "code",
   "execution_count": 25,
   "metadata": {},
   "outputs": [],
   "source": [
    "# rps : readingsPerSample\n",
    "def exportFigs(input_filename=\"mHealth_subject3.log\",rps=50,figsize=(5,5),output_folderName=\"\",prefex=\"fig\", activities = range(1,12)):\n",
    "    os.chdir(path)\n",
    "    \n",
    "    df = pd.read_csv(filename, header=None, delim_whitespace=True)\n",
    "    df = df[df[23]!=0] #drop 0 labeled features\n",
    "    features_df = df[3]\n",
    "    targets_df = df[23]\n",
    "    \n",
    "    #normalization\n",
    "    features_np = features_df.values\n",
    "    features_np_normalized = (features_np-min(features_np))/(max(features_np)-min(features_np))\n",
    "    features_df_normalized = pd.DataFrame(features_np_normalized)\n",
    "    \n",
    "    #segmentation\n",
    "    targets_dummy  = np.array([])\n",
    "    features_dummy  = np.array([])\n",
    "    for i in range(int(features_df_normalized.shape[0]/rps)):\n",
    "        if  targets_df[i*rps:i*rps+rps].mean() in activities:\n",
    "            features_dummy=np.append(features_dummy,features_df_normalized[i*rps:i*rps+rps])\n",
    "            targets_dummy=np.append(targets_dummy,targets_df[i*rps:i*rps+rps].mean()-1)\n",
    "\n",
    "    features_dummy=features_dummy.reshape(-1,rps)\n",
    "    \n",
    "    #folders hiararchy\n",
    "    if folderName == \"\":\n",
    "        folderName=randomString(10)\n",
    "        \n",
    "    os.chdir(path)\n",
    "    try :\n",
    "        os.makedirs(folderName)\n",
    "    except:\n",
    "        pass\n",
    "    path_str = str(path) +\"\\\\\"+ folderName\n",
    "    os.chdir(path_str)\n",
    "    \n",
    "    tmp=1\n",
    "    imageCounter=1\n",
    "    for i in range(1,len(targets_dummy)) :\n",
    "        if int(targets_dummy[i]+1) != tmp:\n",
    "            imageCounter = 0\n",
    "            tmp=int(targets_dummy[i]+1)\n",
    "        imageCounter+=1\n",
    "        plt.figure(figsize=figsize)\n",
    "        plt.xticks([])\n",
    "        plt.yticks([])\n",
    "        plt.rc(\"figure\", facecolor=\"white\")\n",
    "        for spine in plt.gca().spines.values():\n",
    "            spine.set_visible(False)\n",
    "        plt.plot(features_dummy[i], color='k')\n",
    "        label=str(int(targets_dummy[i]+1))\n",
    "        print(label+\"_fig_\"+str(imageCounter)+\".png\")\n",
    "        plt.savefig(label+\"_fig_\"+str(imageCounter)+\".png\")\n",
    "        plt.clf()\n",
    "        plt.cla()\n",
    "        plt.close()\n",
    "    os.chdir(path)\n",
    "    "
   ]
  },
  {
   "cell_type": "code",
   "execution_count": 26,
   "metadata": {},
   "outputs": [
    {
     "name": "stdout",
     "output_type": "stream",
     "text": [
      "9_fig_1.png\n",
      "9_fig_2.png\n",
      "9_fig_3.png\n",
      "9_fig_4.png\n",
      "9_fig_5.png\n",
      "9_fig_6.png\n",
      "9_fig_7.png\n",
      "9_fig_8.png\n",
      "9_fig_9.png\n",
      "9_fig_10.png\n",
      "9_fig_11.png\n",
      "9_fig_12.png\n",
      "9_fig_13.png\n",
      "9_fig_14.png\n",
      "9_fig_15.png\n",
      "9_fig_16.png\n",
      "9_fig_17.png\n",
      "9_fig_18.png\n",
      "9_fig_19.png\n",
      "9_fig_20.png\n",
      "9_fig_21.png\n",
      "9_fig_22.png\n",
      "9_fig_23.png\n",
      "9_fig_24.png\n",
      "9_fig_25.png\n",
      "9_fig_26.png\n",
      "9_fig_27.png\n",
      "9_fig_28.png\n",
      "9_fig_29.png\n",
      "10_fig_1.png\n",
      "10_fig_2.png\n",
      "10_fig_3.png\n",
      "10_fig_4.png\n",
      "10_fig_5.png\n",
      "10_fig_6.png\n",
      "10_fig_7.png\n",
      "10_fig_8.png\n",
      "10_fig_9.png\n",
      "10_fig_10.png\n",
      "10_fig_11.png\n",
      "10_fig_12.png\n",
      "10_fig_13.png\n",
      "10_fig_14.png\n",
      "10_fig_15.png\n",
      "10_fig_16.png\n",
      "10_fig_17.png\n",
      "10_fig_18.png\n",
      "10_fig_19.png\n",
      "10_fig_20.png\n",
      "10_fig_21.png\n",
      "10_fig_22.png\n",
      "10_fig_23.png\n",
      "10_fig_24.png\n",
      "10_fig_25.png\n",
      "10_fig_26.png\n",
      "10_fig_27.png\n",
      "10_fig_28.png\n",
      "10_fig_29.png\n",
      "10_fig_30.png\n",
      "11_fig_1.png\n",
      "11_fig_2.png\n",
      "11_fig_3.png\n",
      "11_fig_4.png\n",
      "11_fig_5.png\n",
      "11_fig_6.png\n",
      "11_fig_7.png\n",
      "11_fig_8.png\n",
      "11_fig_9.png\n",
      "11_fig_10.png\n",
      "11_fig_11.png\n",
      "11_fig_12.png\n",
      "11_fig_13.png\n",
      "11_fig_14.png\n",
      "11_fig_15.png\n",
      "11_fig_16.png\n",
      "11_fig_17.png\n",
      "11_fig_18.png\n",
      "11_fig_19.png\n",
      "11_fig_20.png\n",
      "11_fig_21.png\n",
      "11_fig_22.png\n",
      "11_fig_23.png\n",
      "11_fig_24.png\n",
      "11_fig_25.png\n",
      "11_fig_26.png\n",
      "11_fig_27.png\n",
      "11_fig_28.png\n",
      "11_fig_29.png\n",
      "12_fig_1.png\n",
      "12_fig_2.png\n",
      "12_fig_3.png\n",
      "12_fig_4.png\n",
      "12_fig_5.png\n",
      "12_fig_6.png\n",
      "12_fig_7.png\n",
      "12_fig_8.png\n",
      "12_fig_9.png\n",
      "12_fig_10.png\n"
     ]
    }
   ],
   "source": [
    "exportFigs(input_filename=output_folderName=\"test_100_n\",figsize=(10,5),rps=100,activities=range(9,13))"
   ]
  },
  {
   "cell_type": "code",
   "execution_count": 33,
   "metadata": {},
   "outputs": [
    {
     "data": {
      "image/png": "[encoded data removed]",
      "text/plain": [
       "<Figure size 216x216 with 1 Axes>"
      ]
     },
     "metadata": {},
     "output_type": "display_data"
    }
   ],
   "source": [
    "features_df = df[3]\n",
    "targets_df = df[23]\n",
    "Activities = range(1,12)\n",
    "rps=50\n",
    "#normalization\n",
    "features_np = features_df.values\n",
    "features_np_normalized = (features_np-min(features_np))/(max(features_np)-min(features_np))\n",
    "features_df_normalized = pd.DataFrame(features_np_normalized)\n",
    "\n",
    "#segmentation\n",
    "targets_dummy  = np.array([])\n",
    "features_dummy  = np.array([])\n",
    "for i in range(int(features_df_normalized.shape[0]/rps)):\n",
    "    if  targets_df[i*rps:i*rps+rps].mean() in Activities:\n",
    "        features_dummy=np.append(features_dummy,features_df_normalized[i*rps:i*rps+rps])\n",
    "        targets_dummy=np.append(targets_dummy,targets_df[i*rps:i*rps+rps].mean()-1)\n",
    "\n",
    "features_dummy=features_dummy.reshape(-1,rps)\n",
    "\n",
    "folderName=randomString(10)\n",
    "os.chdir(path)\n",
    "try :\n",
    "    os.makedirs(folderName)\n",
    "except:\n",
    "    pass\n",
    "path_str = str(path) +\"\\\\\"+ folderName\n",
    "os.chdir(path_str)\n",
    "\n",
    "plt.figure(figsize=(3,3))\n",
    "plt.xticks([])\n",
    "plt.yticks([])\n",
    "plt.rc(\"figure\", facecolor=\"white\")\n",
    "for spine in plt.gca().spines.values():\n",
    "    spine.set_visible(False)\n",
    "plt.plot(features_dummy[1], color='k')\n",
    "plt.savefig(\"test1.png\")\n",
    "os.chdir(path)"
   ]
  },
  {
   "cell_type": "code",
   "execution_count": 261,
   "metadata": {},
   "outputs": [
    {
     "data": {
      "text/plain": [
       "array([0.46646404, 0.45752225, 0.45007031, 0.44224635, 0.44522695,\n",
       "       0.4560324 , 0.46385635, 0.46460128, 0.46832681, 0.46646404,\n",
       "       0.46981755, 0.46646404, 0.46646404, 0.46534621, 0.46348345,\n",
       "       0.46311054, 0.46571912, 0.47317017, 0.46981755, 0.46348345,\n",
       "       0.46460128, 0.46199359, 0.44634478, 0.57264863, 0.6751068 ,\n",
       "       0.45864009, 0.46050285, 0.45677732, 0.45975792, 0.46311054,\n",
       "       0.46683695, 0.46944464, 0.47056248, 0.46385635, 0.45864009,\n",
       "       0.45752225, 0.46273852, 0.47689658, 0.49030916, 0.49291723,\n",
       "       0.49738813, 0.50334906, 0.50595764, 0.50707547, 0.51005607,\n",
       "       0.51303667, 0.51564436, 0.52197846, 0.52495906, 0.53203809])"
      ]
     },
     "execution_count": 261,
     "metadata": {},
     "output_type": "execute_result"
    }
   ],
   "source": []
  },
  {
   "cell_type": "code",
   "execution_count": 243,
   "metadata": {},
   "outputs": [
    {
     "data": {
      "text/html": [
       "<div>\n",
       "<style scoped>\n",
       "    .dataframe tbody tr th:only-of-type {\n",
       "        vertical-align: middle;\n",
       "    }\n",
       "\n",
       "    .dataframe tbody tr th {\n",
       "        vertical-align: top;\n",
       "    }\n",
       "\n",
       "    .dataframe thead th {\n",
       "        text-align: right;\n",
       "    }\n",
       "</style>\n",
       "<table border=\"1\" class=\"dataframe\">\n",
       "  <thead>\n",
       "    <tr style=\"text-align: right;\">\n",
       "      <th></th>\n",
       "      <th>0</th>\n",
       "    </tr>\n",
       "  </thead>\n",
       "  <tbody>\n",
       "    <tr>\n",
       "      <th>0</th>\n",
       "      <td>0.466464</td>\n",
       "    </tr>\n",
       "    <tr>\n",
       "      <th>1</th>\n",
       "      <td>0.457522</td>\n",
       "    </tr>\n",
       "    <tr>\n",
       "      <th>2</th>\n",
       "      <td>0.450070</td>\n",
       "    </tr>\n",
       "    <tr>\n",
       "      <th>3</th>\n",
       "      <td>0.442246</td>\n",
       "    </tr>\n",
       "    <tr>\n",
       "      <th>4</th>\n",
       "      <td>0.445227</td>\n",
       "    </tr>\n",
       "  </tbody>\n",
       "</table>\n",
       "</div>"
      ],
      "text/plain": [
       "          0\n",
       "0  0.466464\n",
       "1  0.457522\n",
       "2  0.450070\n",
       "3  0.442246\n",
       "4  0.445227"
      ]
     },
     "execution_count": 243,
     "metadata": {},
     "output_type": "execute_result"
    }
   ],
   "source": [
    "features = df[3]\n",
    "targets = df[23]\n",
    "\n",
    "#normalization\n",
    "features_np = features.values\n",
    "features_normalized = (features_np-min(features_np))/(max(features_np)-min(features_np))\n",
    "\n",
    "df_normalized = pd.DataFrame(features_normalized)\n",
    "df_normalized.head()"
   ]
  },
  {
   "cell_type": "code",
   "execution_count": 149,
   "metadata": {},
   "outputs": [
    {
     "name": "stderr",
     "output_type": "stream",
     "text": [
      "C:\\Users\\pcroot\\Anaconda3\\lib\\site-packages\\sklearn\\preprocessing\\data.py:625: DataConversionWarning: Data with input dtype int64, float64 were all converted to float64 by StandardScaler.\n",
      "  return self.partial_fit(X, y)\n",
      "C:\\Users\\pcroot\\Anaconda3\\lib\\site-packages\\sklearn\\base.py:462: DataConversionWarning: Data with input dtype int64, float64 were all converted to float64 by StandardScaler.\n",
      "  return self.fit(X, **fit_params).transform(X)\n"
     ]
    }
   ],
   "source": [
    "scaler = StandardScaler()\n",
    "scaled_data = scaler.fit_transform(df)"
   ]
  },
  {
   "cell_type": "code",
   "execution_count": 150,
   "metadata": {},
   "outputs": [
    {
     "data": {
      "text/plain": [
       "array([ 0.30775952, -0.06928743, -0.54193917])"
      ]
     },
     "execution_count": 150,
     "metadata": {},
     "output_type": "execute_result"
    }
   ],
   "source": [
    "scaled_data[0]"
   ]
  },
  {
   "cell_type": "code",
   "execution_count": 152,
   "metadata": {},
   "outputs": [],
   "source": [
    "d = df[df[2]!=0]"
   ]
  },
  {
   "cell_type": "code",
   "execution_count": 72,
   "metadata": {},
   "outputs": [],
   "source": [
    "X = d[[0,1]]\n",
    "Y = d[2]"
   ]
  },
  {
   "cell_type": "code",
   "execution_count": 73,
   "metadata": {},
   "outputs": [],
   "source": [
    "def getFeatures(datasets,readingsPerSample=50):\n",
    "    Activities = range(1,12)\n",
    "    targets  = np.array([])\n",
    "    feature_set= np.array([])\n",
    "    for df in datasets:\n",
    "        for i in range(int(df.shape[0]/readingsPerSample)):\n",
    "            if df[2][i*readingsPerSample:i*readingsPerSample+readingsPerSample].mean() in Activities:\n",
    "                feature_set=np.append(feature_set,[df[1][i*readingsPerSample:i*readingsPerSample+readingsPerSample]])\n",
    "                targets=np.append(targets,df[2][i*readingsPerSample:i*readingsPerSample+readingsPerSample].mean()-1)\n",
    "    feature_set=feature_set.reshape(int(feature_set.shape[0]/readingsPerSample),readingsPerSample)\n",
    "#     one_hot_labels=one_hot_labels.reshape(int(one_hot_labels.shape[0]/12),12)\n",
    "    return feature_set, targets\n",
    "def unison_shuffled_copies(a, b,seed=1):\n",
    "    assert len(a) == len(b)\n",
    "    np.random.seed(seed)\n",
    "    p = np.random.permutation(len(a))\n",
    "    return a[p], b[p]"
   ]
  },
  {
   "cell_type": "code",
   "execution_count": 160,
   "metadata": {},
   "outputs": [],
   "source": [
    "x=d[0]\n",
    "x_np=x.values"
   ]
  },
  {
   "cell_type": "code",
   "execution_count": 167,
   "metadata": {},
   "outputs": [],
   "source": [
    "x_normalized = (x_np-min(x_np))/(max(x_np)-min(x_np))\n",
    "x_reshaped = x_normalized[:35350].reshape(-1,50)"
   ]
  },
  {
   "cell_type": "code",
   "execution_count": 171,
   "metadata": {},
   "outputs": [
    {
     "data": {
      "text/plain": [
       "(676,)"
      ]
     },
     "execution_count": 171,
     "metadata": {},
     "output_type": "execute_result"
    }
   ],
   "source": [
    "x_reshaped.shape\n",
    "y.shape"
   ]
  },
  {
   "cell_type": "code",
   "execution_count": 204,
   "metadata": {},
   "outputs": [
    {
     "data": {
      "image/png": "[encoded data removed]",
      "text/plain": [
       "<Figure size 216x216 with 1 Axes>"
      ]
     },
     "metadata": {},
     "output_type": "display_data"
    }
   ],
   "source": [
    "plt.figure(figsize=(3,3))\n",
    "plt.xticks([])\n",
    "plt.yticks([])\n",
    "plt.rc(\"figure\", facecolor=\"white\")\n",
    "for spine in plt.gca().spines.values():\n",
    "    spine.set_visible(False)\n",
    "plt.plot(np.log(x_reshaped[98]+1), color='k')\n",
    "plt.savefig(\"test1.png\")"
   ]
  },
  {
   "cell_type": "code",
   "execution_count": 129,
   "metadata": {},
   "outputs": [
    {
     "data": {
      "text/plain": [
       "array([[1, 1, 1],\n",
       "       [2, 3, 4]])"
      ]
     },
     "execution_count": 129,
     "metadata": {},
     "output_type": "execute_result"
    }
   ],
   "source": [
    "b"
   ]
  },
  {
   "cell_type": "code",
   "execution_count": 32,
   "metadata": {},
   "outputs": [
    {
     "data": {
      "text/plain": [
       "array([[1, 2, 3],\n",
       "       [4, 5, 6],\n",
       "       [1, 1, 1],\n",
       "       [2, 3, 4]])"
      ]
     },
     "execution_count": 32,
     "metadata": {},
     "output_type": "execute_result"
    }
   ],
   "source": [
    "c = np.concatenate((a, b))\n",
    "c"
   ]
  },
  {
   "cell_type": "code",
   "execution_count": 31,
   "metadata": {},
   "outputs": [
    {
     "data": {
      "text/plain": [
       "array([4, 5, 6])"
      ]
     },
     "execution_count": 31,
     "metadata": {},
     "output_type": "execute_result"
    }
   ],
   "source": [
    "c[1]"
   ]
  },
  {
   "cell_type": "code",
   "execution_count": null,
   "metadata": {},
   "outputs": [],
   "source": []
  }
 ],
 "metadata": {
  "kernelspec": {
   "display_name": "Python 3",
   "language": "python",
   "name": "python3"
  },
  "language_info": {
   "codemirror_mode": {
    "name": "ipython",
    "version": 3
   },
   "file_extension": ".py",
   "mimetype": "text/x-python",
   "name": "python",
   "nbconvert_exporter": "python",
   "pygments_lexer": "ipython3",
   "version": "3.7.1"
  }
 },
 "nbformat": 4,
 "nbformat_minor": 2
}
