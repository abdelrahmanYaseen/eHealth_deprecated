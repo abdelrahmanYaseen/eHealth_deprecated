{
 "cells": [
  {
   "cell_type": "code",
   "execution_count": 4,
   "metadata": {},
   "outputs": [],
   "source": [
    "import pandas as pd\n",
    "import numpy as np\n",
    "import matplotlib.pyplot as plt\n",
    "from sklearn import preprocessing\n",
    "import sys,os\n",
    "import string\n",
    "import random\n",
    "path = os.getcwd()"
   ]
  },
  {
   "cell_type": "code",
   "execution_count": 5,
   "metadata": {},
   "outputs": [],
   "source": [
    "#utility function\n",
    "def randomString(length) :\n",
    "    l = string.ascii_lowercase\n",
    "    return ''.join(random.choice(l) for i in range(length))"
   ]
  },
  {
   "cell_type": "code",
   "execution_count": 20,
   "metadata": {},
   "outputs": [],
   "source": [
    "# rps : readingsPerSample\n",
    "def exportFigs(input_filenames=[\"mHealth_subject3.log\"],rps=50,figsize=(5,5),output_folder_prefex=\"\",prefex=\"fig\", activities = range(1,13)):\n",
    "    counter = 0\n",
    "    for input_filename in input_filenames:\n",
    "        os.chdir(path)\n",
    "        counter +=1\n",
    "        df = pd.read_csv(input_filename, header=None, delim_whitespace=True)\n",
    "        df = df[df[23]!=0] #drop 0 labeled features\n",
    "        features_df = df[3]\n",
    "        targets_df = df[23]\n",
    "\n",
    "        #normalization\n",
    "        features_np = features_df.values\n",
    "        features_np_normalized = (features_np-min(features_np))/(max(features_np)-min(features_np))\n",
    "        features_df_normalized = pd.DataFrame(features_np_normalized)\n",
    "\n",
    "        #segmentation\n",
    "        targets_dummy  = np.array([])\n",
    "        features_dummy  = np.array([])\n",
    "        for i in range(int(features_df_normalized.shape[0]/rps)):\n",
    "            if  targets_df[i*rps:i*rps+rps].mean() in activities:\n",
    "                features_dummy=np.append(features_dummy,features_df_normalized[i*rps:i*rps+rps])\n",
    "                targets_dummy=np.append(targets_dummy,targets_df[i*rps:i*rps+rps].mean()-1)\n",
    "\n",
    "        features_dummy=features_dummy.reshape(-1,rps)\n",
    "\n",
    "        \n",
    "        #folders hiararchy\n",
    "        if output_folder_prefex == \"\":\n",
    "            output_folder_prefex=\"Out\"\n",
    "        os.chdir(path)\n",
    "        outputFolderName = output_folder_prefex+\"_\"+str(counter)\n",
    "        try :\n",
    "            os.makedirs(outputFolderName)\n",
    "        except:\n",
    "            pass\n",
    "        path_str = os.path.join(str(path),outputFolderName)\n",
    "        os.chdir(path_str)\n",
    "\n",
    "        tmp=1\n",
    "        imageCounter=1\n",
    "        for i in range(0,len(targets_dummy)) :\n",
    "            if int(targets_dummy[i]+1) != tmp:\n",
    "                imageCounter = 0\n",
    "                tmp=int(targets_dummy[i]+1)\n",
    "            imageCounter+=1\n",
    "            plt.figure(figsize=figsize)\n",
    "            plt.xticks([])\n",
    "            plt.yticks([])\n",
    "            plt.rc(\"figure\", facecolor=\"white\")\n",
    "            for spine in plt.gca().spines.values():\n",
    "                spine.set_visible(False)\n",
    "            plt.plot(features_dummy[i], color='k')\n",
    "            label=str(int(targets_dummy[i]+1))\n",
    "            print(label+\"_fig_\"+str(imageCounter)+\".png\")\n",
    "            plt.savefig(label+\"_fig_\"+str(imageCounter)+\".png\")\n",
    "            plt.clf()\n",
    "            plt.cla()\n",
    "            plt.close()\n",
    "        os.chdir(path)"
   ]
  },
  {
   "cell_type": "code",
   "execution_count": null,
   "metadata": {},
   "outputs": [],
   "source": [
    "exportFigs(input_filenames=[\"mHealth_subject3.log\",\"mHealth_subject2.log\"],figsize=(3,3),rps=50)"
   ]
  },
  {
   "cell_type": "code",
   "execution_count": null,
   "metadata": {},
   "outputs": [],
   "source": []
  }
 ],
 "metadata": {
  "kernelspec": {
   "display_name": "Python 3",
   "language": "python",
   "name": "python3"
  },
  "language_info": {
   "codemirror_mode": {
    "name": "ipython",
    "version": 3
   },
   "file_extension": ".py",
   "mimetype": "text/x-python",
   "name": "python",
   "nbconvert_exporter": "python",
   "pygments_lexer": "ipython3",
   "version": "3.6.8"
  }
 },
 "nbformat": 4,
 "nbformat_minor": 2
}
