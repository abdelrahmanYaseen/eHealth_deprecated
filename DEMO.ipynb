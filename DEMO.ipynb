{
 "cells": [
  {
   "cell_type": "markdown",
   "metadata": {},
   "source": [
    "## Plan \n",
    "this code snippet should :\n",
    "1. ask the user for his patient ID\n",
    "1. the patient to do the 12 activities to learn the pattern of his movement\n",
    " 1. Walk for 20 seconds\n",
    " 1. Jump for 20 seconds\n",
    " 1. Lay down for 20 seconds\n",
    " 1. etc ..\n",
    "1. a knn model should be generated\n",
    "1. Receive Actuator data\n",
    "1. Determine activity\n",
    "1. Receive ECG data\n",
    "1. predict activity\n",
    "1. send anomaly notification if mismatch"
   ]
  },
  {
   "cell_type": "code",
   "execution_count": null,
   "metadata": {},
   "outputs": [],
   "source": []
  }
 ],
 "metadata": {
  "kernelspec": {
   "display_name": "Python 3",
   "language": "python",
   "name": "python3"
  },
  "language_info": {
   "codemirror_mode": {
    "name": "ipython",
    "version": 3
   },
   "file_extension": ".py",
   "mimetype": "text/x-python",
   "name": "python",
   "nbconvert_exporter": "python",
   "pygments_lexer": "ipython3",
   "version": "3.6.8"
  }
 },
 "nbformat": 4,
 "nbformat_minor": 2
}
