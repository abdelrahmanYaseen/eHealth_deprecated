{
 "cells": [
  {
   "cell_type": "markdown",
   "metadata": {},
   "source": [
    "## Plan \n",
    "this code snippet operates in 2 phases\n",
    "### Phase 1  : Learning the patterns of a specific subject\n",
    "(Assuming that a patient is logged in)\n",
    "1. Actuators\n",
    " 1. Asks for actuators data\n",
    " 1. buildes a knn model and saves it\n",
    "1. ECG\n",
    " 1. Asks for ECG data while doing different activities\n",
    " 1. "
   ]
  },
  {
   "cell_type": "code",
   "execution_count": 3,
   "metadata": {},
   "outputs": [],
   "source": [
    "import pandas as pd\n",
    "import numpy as np"
   ]
  },
  {
   "cell_type": "markdown",
   "metadata": {},
   "source": [
    "Prepare input files (Sensors dummy readings)"
   ]
  },
  {
   "cell_type": "code",
   "execution_count": 83,
   "metadata": {},
   "outputs": [],
   "source": [
    "def getSubjectNum(fileName) :\n",
    "        import re\n",
    "        n = re.findall(r'\\d+', fileName)\n",
    "        return int(n[0])\n"
   ]
  },
  {
   "cell_type": "code",
   "execution_count": 148,
   "metadata": {},
   "outputs": [],
   "source": [
    "class GyroSensor:\n",
    "    def __init__(self,freq=50,rawdataFileName=\"mHealth_subject3.log\"):\n",
    "        self.frequency=50\n",
    "        self.rawdata=\"mHealth_subject3.log\"\n",
    "        self.subjectNum=getSubjectNum(self.rawdata)\n",
    "        \n",
    "        self.generateInputFile()\n",
    "        self.datapool=pd.DataFrame(np.array([]))\n",
    "    \n",
    "    def generateInputFile(self):\n",
    "        X =  np.array([])\n",
    "        Y =  np.array([])\n",
    "        df = pd.read_csv(self.rawdata, header=None, delim_whitespace=True)\n",
    "        df = df[df[23]!=0] #drop 0 labeled features\n",
    "        readings_df = pd.DataFrame(df[9].copy())\n",
    "        targets_df = pd.DataFrame(df[23].copy())\n",
    "        reading_np = readings_df.values\n",
    "\n",
    "        rps=self.frequency\n",
    "        activities=range(1,13)\n",
    "        # #         segmentation\n",
    "        for i in range(int(readings_df.shape[0]/rps)):\n",
    "            if  float(targets_df[i*rps:i*rps+rps].mean()) in activities:\n",
    "                Y=np.append(Y,targets_df[i*rps:i*rps+rps].mean()) #new\n",
    "                X=np.append(X,readings_df[i*rps:i*rps+rps].values)\n",
    "\n",
    "        X=X.reshape(-1,rps)\n",
    "        OutDF = pd.DataFrame(X)\n",
    "        OutDF['labels']=Y\n",
    "        OutDF.reset_index\n",
    "        OutDF.to_csv(\"Gyro_subject\"+str(self.subjectNum), sep='\\t',index=False)\n",
    "\n",
    "    #returns value , target\n",
    "    def getReading(self,activity=1):\n",
    "        if self.datapool.empty == True:\n",
    "            self.datapool= pd.read_csv(\"Gyro_subject\"+str(self.subjectNum), sep='\\t',index_col=False)\n",
    "        readings = self.datapool.loc[df.labels==activity,]\n",
    "        randIndex = np.random.randint(0,len(readings))\n",
    "        return readings.iloc[randIndex,range(0,self.frequency)], readings.iloc[randIndex,self.frequency]\n"
   ]
  },
  {
   "cell_type": "code",
   "execution_count": 171,
   "metadata": {},
   "outputs": [],
   "source": [
    "class ECGSensor:\n",
    "    def __init__(self,freq=50,rawdataFileName=\"mHealth_subject3.log\"):\n",
    "        self.frequency=50\n",
    "        self.rawdata=\"mHealth_subject3.log\"\n",
    "        self.subjectNum=getSubjectNum(self.rawdata)\n",
    "        \n",
    "        self.generateInputFile()\n",
    "        self.datapool=pd.DataFrame(np.array([]))\n",
    "    \n",
    "    def generateInputFile(self):\n",
    "        X =  np.array([])\n",
    "        Y =  np.array([])\n",
    "        df = pd.read_csv(self.rawdata, header=None, delim_whitespace=True)\n",
    "        df = df[df[23]!=0] #drop 0 labeled features\n",
    "        readings_df = pd.DataFrame(df[3].copy())\n",
    "        targets_df = pd.DataFrame(df[23].copy())\n",
    "        reading_np = readings_df.values\n",
    "\n",
    "        rps=self.frequency\n",
    "        activities=range(1,13)\n",
    "        # #         segmentation\n",
    "        for i in range(int(readings_df.shape[0]/rps)):\n",
    "            if  float(targets_df[i*rps:i*rps+rps].mean()) in activities:\n",
    "                Y=np.append(Y,targets_df[i*rps:i*rps+rps].mean()) #new\n",
    "                X=np.append(X,readings_df[i*rps:i*rps+rps].values)\n",
    "\n",
    "        X=X.reshape(-1,rps)\n",
    "        OutDF = pd.DataFrame(X)\n",
    "        OutDF['labels']=Y\n",
    "        OutDF.reset_index\n",
    "        OutDF.to_csv(\"Gyro_subject\"+str(self.subjectNum), sep='\\t',index=False)\n",
    "\n",
    "    #returns value , target\n",
    "    def getReading(self,activity=1):\n",
    "        if self.datapool.empty == True:\n",
    "            self.datapool= pd.read_csv(\"Gyro_subject\"+str(self.subjectNum), sep='\\t',index_col=False)\n",
    "        readings = self.datapool.loc[df.labels==activity,]\n",
    "        randIndex = np.random.randint(0,len(readings))\n",
    "        return readings.iloc[randIndex,range(0,self.frequency)], readings.iloc[randIndex,self.frequency]\n"
   ]
  },
  {
   "cell_type": "code",
   "execution_count": 172,
   "metadata": {},
   "outputs": [],
   "source": [
    "G = ECGSensor(freq=50,rawdataFileName=\"mHealth_subject3.log\")"
   ]
  },
  {
   "cell_type": "code",
   "execution_count": 173,
   "metadata": {},
   "outputs": [],
   "source": [
    "X=[]\n",
    "Y=[]\n",
    "for i in range(30):\n",
    "    for activity in range(1,13):\n",
    "        x,y = G.getReading(activity)\n",
    "        X+=list(x)\n",
    "        Y+=[y]\n",
    "X = np.array(X).reshape(-1,50)"
   ]
  },
  {
   "cell_type": "code",
   "execution_count": 174,
   "metadata": {},
   "outputs": [
    {
     "data": {
      "text/plain": [
       "(360, 50)"
      ]
     },
     "execution_count": 174,
     "metadata": {},
     "output_type": "execute_result"
    }
   ],
   "source": [
    "X.shape"
   ]
  },
  {
   "cell_type": "code",
   "execution_count": 175,
   "metadata": {},
   "outputs": [
    {
     "data": {
      "text/plain": [
       "KNeighborsClassifier(algorithm='auto', leaf_size=30, metric='minkowski',\n",
       "           metric_params=None, n_jobs=None, n_neighbors=1, p=2,\n",
       "           weights='uniform')"
      ]
     },
     "execution_count": 175,
     "metadata": {},
     "output_type": "execute_result"
    }
   ],
   "source": [
    "from sklearn.neighbors import KNeighborsClassifier\n",
    "knn = KNeighborsClassifier(n_neighbors=1)\n",
    "knn.fit(X,Y)"
   ]
  },
  {
   "cell_type": "code",
   "execution_count": 177,
   "metadata": {},
   "outputs": [
    {
     "name": "stdout",
     "output_type": "stream",
     "text": [
      "0.5436\n"
     ]
    }
   ],
   "source": [
    "t=0\n",
    "tot=10000\n",
    "for i in range(tot):\n",
    "    x,y = G.getReading(np.random.randint(1,13))\n",
    "    x = np.array(x).reshape(-1,50) \n",
    "    if(y==knn.predict(x)):\n",
    "        t+=1\n",
    "print(t/tot)"
   ]
  },
  {
   "cell_type": "code",
   "execution_count": 120,
   "metadata": {},
   "outputs": [],
   "source": [
    "def ECG_Simulator():\n",
    "    pass"
   ]
  },
  {
   "cell_type": "code",
   "execution_count": null,
   "metadata": {},
   "outputs": [],
   "source": [
    "def ECG_Reader():\n",
    "    pass"
   ]
  },
  {
   "cell_type": "code",
   "execution_count": null,
   "metadata": {},
   "outputs": [],
   "source": [
    "def Gyro_Reader():\n",
    "    pass"
   ]
  },
  {
   "cell_type": "code",
   "execution_count": 1,
   "metadata": {},
   "outputs": [
    {
     "name": "stdout",
     "output_type": "stream",
     "text": [
      "1\n",
      "2\n",
      "1\n",
      "1\n",
      "2\n",
      "1\n",
      "1\n",
      "2\n",
      "1\n",
      "1\n",
      "2\n",
      "1\n",
      "1\n",
      "2\n",
      "1\n",
      "2\n",
      "2\n",
      "2\n",
      "2\n",
      "2\n",
      "Done!\n"
     ]
    }
   ],
   "source": [
    "import threading\n",
    "import time\n",
    "import random\n",
    "\n",
    "def fun1():\n",
    "      for j in range(10):\n",
    "            print(\"1\")\n",
    "            time.sleep(random.randint(1,5)/10)\n",
    "\n",
    "def fun2():\n",
    "      for i in range(10):\n",
    "            print(\"2\")\n",
    "            time.sleep(random.randint(5,10)/10)\n",
    "\n",
    "if __name__ == \"__main__\": \n",
    "    # creating thread \n",
    "    t1 = threading.Thread(target=fun1) \n",
    "    t2 = threading.Thread(target=fun2) \n",
    "  \n",
    "    # starting thread 1 \n",
    "    t1.start() \n",
    "    # starting thread 2 \n",
    "    t2.start() \n",
    "  \n",
    "    # wait until thread 1 is completely executed \n",
    "    t1.join() \n",
    "    # wait until thread 2 is completely executed \n",
    "    t2.join() \n",
    "  \n",
    "    # both threads completely executed \n",
    "    print(\"Done!\") "
   ]
  },
  {
   "cell_type": "code",
   "execution_count": null,
   "metadata": {},
   "outputs": [],
   "source": []
  }
 ],
 "metadata": {
  "kernelspec": {
   "display_name": "Python 3",
   "language": "python",
   "name": "python3"
  },
  "language_info": {
   "codemirror_mode": {
    "name": "ipython",
    "version": 3
   },
   "file_extension": ".py",
   "mimetype": "text/x-python",
   "name": "python",
   "nbconvert_exporter": "python",
   "pygments_lexer": "ipython3",
   "version": "3.6.8"
  }
 },
 "nbformat": 4,
 "nbformat_minor": 2
}
